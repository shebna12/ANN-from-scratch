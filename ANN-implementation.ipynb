{
  "nbformat": 4,
  "nbformat_minor": 0,
  "metadata": {
    "colab": {
      "name": "ANN.ipynb",
      "provenance": [],
      "toc_visible": true
    },
    "kernelspec": {
      "name": "python3",
      "display_name": "Python 3"
    }
  },
  "cells": [
    {
      "cell_type": "markdown",
      "metadata": {
        "id": "XsSueK5zQKYH"
      },
      "source": [
        "# Set file path"
      ]
    },
    {
      "cell_type": "code",
      "metadata": {
        "id": "9g-Avgx0QHjb"
      },
      "source": [
        "#@markdown ### Enter a file path:\r\n",
        "filepath = \"/content/drive/MyDrive/portfolio/ann\" #@param {type:\"string\"}"
      ],
      "execution_count": 1,
      "outputs": []
    },
    {
      "cell_type": "markdown",
      "metadata": {
        "id": "8uD9mU7bQqRD"
      },
      "source": [
        "# Install libraries"
      ]
    },
    {
      "cell_type": "code",
      "metadata": {
        "colab": {
          "base_uri": "https://localhost:8080/"
        },
        "id": "eLInnxRHQs2F",
        "outputId": "4a5e9f17-ffd4-4579-c647-0510ccb9df2b"
      },
      "source": [
        "!pip install numpy\r\n",
        "!pip install matplotlib"
      ],
      "execution_count": 2,
      "outputs": [
        {
          "output_type": "stream",
          "text": [
            "Requirement already satisfied: numpy in /usr/local/lib/python3.6/dist-packages (1.19.5)\n",
            "Requirement already satisfied: matplotlib in /usr/local/lib/python3.6/dist-packages (3.2.2)\n",
            "Requirement already satisfied: numpy>=1.11 in /usr/local/lib/python3.6/dist-packages (from matplotlib) (1.19.5)\n",
            "Requirement already satisfied: pyparsing!=2.0.4,!=2.1.2,!=2.1.6,>=2.0.1 in /usr/local/lib/python3.6/dist-packages (from matplotlib) (2.4.7)\n",
            "Requirement already satisfied: kiwisolver>=1.0.1 in /usr/local/lib/python3.6/dist-packages (from matplotlib) (1.3.1)\n",
            "Requirement already satisfied: cycler>=0.10 in /usr/local/lib/python3.6/dist-packages (from matplotlib) (0.10.0)\n",
            "Requirement already satisfied: python-dateutil>=2.1 in /usr/local/lib/python3.6/dist-packages (from matplotlib) (2.8.1)\n",
            "Requirement already satisfied: six in /usr/local/lib/python3.6/dist-packages (from cycler>=0.10->matplotlib) (1.15.0)\n"
          ],
          "name": "stdout"
        }
      ]
    },
    {
      "cell_type": "markdown",
      "metadata": {
        "id": "vefS0EBBQlS6"
      },
      "source": [
        "# Import libraries"
      ]
    },
    {
      "cell_type": "code",
      "metadata": {
        "id": "d4s-JngrQkd7"
      },
      "source": [
        "import numpy as np\r\n",
        "import sys\r\n",
        "import matplotlib.pyplot as plt"
      ],
      "execution_count": 3,
      "outputs": []
    },
    {
      "cell_type": "markdown",
      "metadata": {
        "id": "kJtux5k6Q0Gr"
      },
      "source": [
        "# Train model"
      ]
    },
    {
      "cell_type": "markdown",
      "metadata": {
        "id": "PvnQJT3RdTEq"
      },
      "source": [
        "### Initialize neural network architecture parameters"
      ]
    },
    {
      "cell_type": "code",
      "metadata": {
        "id": "YgKSJr_jR2oX"
      },
      "source": [
        "n_h1 =  7#@param {type:\"integer\"}\r\n",
        "n_h2 =  5#@param {type:\"integer\"}\r\n",
        "eta =  0.01#@param {type:\"number\"}\r\n",
        "max_epoch = 100 #@param {type:\"integer\"}\r\n",
        "thresh = 0.001 #@param {type:\"number\"}"
      ],
      "execution_count": 4,
      "outputs": []
    },
    {
      "cell_type": "code",
      "metadata": {
        "id": "QgO_nYJuQ1my"
      },
      "source": [
        "def train_model(X,Y,n_h1,n_h2,eta,max_epoch,thresh):\r\n",
        "\t# Load training data\r\n",
        "\t\r\n",
        "\r\n",
        "\t# One-hot encoding on labels\r\n",
        "\tone_hot = np.zeros((Y.size, int(Y.max())+1))\r\n",
        "\tone_hot[np.arange(Y.size),Y.astype(int)] = 1\r\n",
        "\tY = one_hot[:,1:]\r\n",
        "\tprint(Y.shape)\r\n",
        "\r\n",
        "\t# Architecture Definition\r\n",
        "\t# Input layer\r\n",
        "\tn_in=X.shape[1]\r\n",
        "\t# Hidden Layer 1\r\n",
        "\tn_h1=n_h1\r\n",
        "\t# Hidden Layer 2\r\n",
        "\tn_h2=n_h2\r\n",
        "\t# Output layer\r\n",
        "\tn_out=Y.shape[1]\r\n",
        "\teta=eta\r\n",
        "\r\n",
        "\t# Pre-allocate storage and initialize weights + biases\r\n",
        "\tx_in=np.zeros((n_in,1))\r\n",
        "\r\n",
        "\tw_h1= -0.1 + np.dot((0.1 + 0.1),np.random.rand(n_h1,n_in))\r\n",
        "\tb_h1=- 0.1 + np.dot((0.1 + 0.1),np.random.rand(n_h1,1))\r\n",
        "\r\n",
        "\tw_h2=- 0.1 + np.dot((0.1 + 0.1),np.random.rand(n_h2,n_h1))\r\n",
        "\tb_h2=- 0.1 + np.dot((0.1 + 0.1),np.random.rand(n_h2,1))\r\n",
        "\tw_out=- 0.1 + np.dot((0.1 + 0.1),np.random.rand(n_out,n_h2))\r\n",
        "\r\n",
        "\tb_out=- 0.1 + np.dot((0.1 + 0.1),np.random.rand(n_out,1))\r\n",
        "\td_out=np.zeros((n_out,1))\r\n",
        "\r\n",
        "\t# Number of instances\r\n",
        "\tN = X.shape[0]\r\n",
        "\t# Number of epochs limit\r\n",
        "\tmax_epoch=max_epoch\r\n",
        "\r\n",
        "\t# TRAINING PHASE\r\n",
        "\t# Store network error for every iteration\r\n",
        "\ttotalerr=np.zeros((max_epoch,1))\r\n",
        "\r\n",
        "\t# Learning continues until max_epoch is reached\r\n",
        "\t# or when network error is less than 0.001\r\n",
        "\tfor q in np.arange(0,max_epoch).reshape(-1):\r\n",
        "\t    # Shuffle data\r\n",
        "\t    p=np.random.permutation(N)\r\n",
        "\t    for n in np.arange(0,N).reshape(-1):\r\n",
        "\t        nn=p[n]\r\n",
        "\t        x_in=X[nn,:].T\r\n",
        "\t        d_out=Y[nn,:].T\r\n",
        "\t        d_out = np.reshape(d_out, (d_out.shape[0],1))\r\n",
        "\t       \r\n",
        "\t        # Hidden layer 1\r\n",
        "\t        v_h1=np.dot(w_h1,x_in) + b_h1\r\n",
        "\t        y_h1=1.0 / (1 + np.exp(- v_h1))\r\n",
        "\t        \r\n",
        "\t        v_h2=np.dot(w_h2,y_h1) + b_h2\r\n",
        "\t        y_h2=1.0 / (1 + np.exp(- v_h2))\r\n",
        "\t        v_out=np.dot(w_out,y_h2) + b_out\r\n",
        "\r\n",
        "\t        out=1.0 / (1 + np.exp(- v_out))\r\n",
        "\t  \r\n",
        "\t        # Compute error\r\n",
        "\t        err=d_out - out\r\n",
        "\r\n",
        "\t        # Backward pass\r\n",
        "\t        delta_out=np.multiply(np.multiply(err,out),(1 - out))\r\n",
        "\t        delta_h2=np.multiply(np.multiply(y_h2,(1 - y_h2)),(np.dot(w_out.T,delta_out)))\r\n",
        "\t        delta_h1=np.multiply(np.multiply(y_h1,(1 - y_h1)),(np.dot(w_h2.T,delta_h2)))\r\n",
        "\r\n",
        "\t        w_out=w_out + np.dot(np.multiply(eta,delta_out),y_h2.T)\r\n",
        "\t        b_out=b_out + np.multiply(eta,delta_out)\r\n",
        "\t        \r\n",
        "\t        w_h2=w_h2 + np.dot(np.multiply(eta,delta_h2),y_h1.T)\r\n",
        "\t        b_h2=b_h2 + np.multiply(eta,delta_h2)\r\n",
        "\r\n",
        "\t        w_h1=w_h1 + np.dot(np.multiply(eta,delta_h1),x_in.T)\r\n",
        "\t        b_h1=b_h1 + np.multiply(eta,delta_h1)\r\n",
        "\r\n",
        "\t    totalerr[q]=totalerr[q] + np.sum(np.multiply(err,err))\r\n",
        "\r\n",
        "\t    # Display error every 500th iteration\r\n",
        "\t    if q != 0 and q%500 == 0:\r\n",
        "\t        print('iteration: %d Error: %f' %(q,totalerr[q]))\r\n",
        "\t    # If termination condition is satisfied save weights and exit\r\n",
        "\t    if totalerr[q] < thresh:\r\n",
        "\t        break\r\n",
        "\r\n",
        "\tweights = [w_h1,w_h2,w_out]\r\n",
        "\tbiases = [b_h1,b_h2,b_out]\r\n",
        "\treturn weights,biases,q,totalerr\r\n"
      ],
      "execution_count": 5,
      "outputs": []
    },
    {
      "cell_type": "markdown",
      "metadata": {
        "id": "_ZZ81N4vQ2za"
      },
      "source": [
        "### Load training data"
      ]
    },
    {
      "cell_type": "code",
      "metadata": {
        "id": "6xzMkO6fRJgD"
      },
      "source": [
        "X = np.asmatrix(np.loadtxt(open(filepath + \"/training_set.csv\", \"rb\"), delimiter=\",\",dtype = np.float64))\r\n",
        "Y = np.loadtxt(open(filepath + \"/training_labels.csv\", \"rb\"), delimiter=\",\",dtype = np.float64)"
      ],
      "execution_count": 6,
      "outputs": []
    },
    {
      "cell_type": "markdown",
      "metadata": {
        "id": "wEbJ-mqydklH"
      },
      "source": [
        "### Train model"
      ]
    },
    {
      "cell_type": "code",
      "metadata": {
        "colab": {
          "base_uri": "https://localhost:8080/"
        },
        "id": "7JM1EAnVSjET",
        "outputId": "49294c51-1d5b-4761-fad4-c728ac1de47f"
      },
      "source": [
        "weights,biases,q,totalerr = train_model(X,Y,n_h2,n_h1,eta,max_epoch,thresh)"
      ],
      "execution_count": 7,
      "outputs": [
        {
          "output_type": "stream",
          "text": [
            "(7800, 8)\n"
          ],
          "name": "stdout"
        }
      ]
    },
    {
      "cell_type": "markdown",
      "metadata": {
        "id": "YdHzwMuCQ6Ky"
      },
      "source": [
        "# Test model"
      ]
    },
    {
      "cell_type": "code",
      "metadata": {
        "id": "t-tBROjXQ7LM"
      },
      "source": [
        "def test_model(X_val,Y_val,trained_weights,trained_biases):\r\n",
        "\t# TEST PHASE\r\n",
        "  w_h1,w_h2,w_out = trained_weights\r\n",
        "  b_h1,b_h2,b_out = trained_biases \r\n",
        "\r\n",
        "  n_in=X_val.shape[1]\r\n",
        "\r\n",
        "\t# One-hot encoding labels\r\n",
        "  one_hot = np.zeros((Y_val.size, int(Y_val.max())+1))\r\n",
        "  one_hot[np.arange(Y_val.size),Y_val.astype(int)] = 1\r\n",
        "  Y_val = one_hot[:,1:]\r\n",
        "\r\n",
        "  X = X_val\r\n",
        "  Y = Y_val\r\n",
        "  N = X.shape[0]\r\n",
        "  print(\"X shape: \", X.shape)\r\n",
        "\r\n",
        "\t# Store predicted output\r\n",
        "  nn_output=np.zeros(Y.shape)\r\n",
        "  print(\"Y shape: \", Y.shape)\r\n",
        "\t# Prediction continues until all instances are exhausted\r\n",
        "  for n in np.arange(0,N).reshape(-1):\r\n",
        "\t    x_in=X[n,:].T\r\n",
        "\t    d_out=Y[n,:].T\r\n",
        "\t    d_out = np.reshape(d_out, (d_out.shape[0],1)) \r\n",
        "\r\n",
        "\t    v_h1=np.dot(w_h1,x_in) + b_h1\r\n",
        "\t    y_h1=1.0 / (1 + np.exp(- v_h1))\r\n",
        "\r\n",
        "\t    v_h2=np.dot(w_h2,y_h1) + b_h2\r\n",
        "\t    y_h2=1.0 / (1 + np.exp(- v_h2))\r\n",
        "\t    v_out=np.dot(w_out,y_h2) + b_out\r\n",
        "\r\n",
        "\t    out=1.0 / (1 + np.exp(- v_out))\r\n",
        "\t    nn_output[n]=np.equal(out.T,np.max(out)).astype(int)\r\n",
        "\r\n",
        "  return nn_output,Y"
      ],
      "execution_count": 8,
      "outputs": []
    },
    {
      "cell_type": "markdown",
      "metadata": {
        "id": "qtap08evdIjw"
      },
      "source": [
        "### Load validation data"
      ]
    },
    {
      "cell_type": "code",
      "metadata": {
        "id": "8JWPi7RSThYL"
      },
      "source": [
        "X_val = np.asmatrix(np.loadtxt(open(filepath + \"/validation_set.csv\", \"rb\"), delimiter=\",\",dtype = np.float64))\r\n",
        "Y_val = np.loadtxt(open(filepath+\"/validation_labels.csv\", \"rb\"), delimiter=\",\",dtype = np.float64)\r\n"
      ],
      "execution_count": 9,
      "outputs": []
    },
    {
      "cell_type": "markdown",
      "metadata": {
        "id": "xXcsXn5LdP0h"
      },
      "source": [
        "### Test"
      ]
    },
    {
      "cell_type": "code",
      "metadata": {
        "colab": {
          "base_uri": "https://localhost:8080/"
        },
        "id": "DIYcC-YUT1Uo",
        "outputId": "0502edfe-e6b1-475f-fed0-1b24e7418008"
      },
      "source": [
        "nn_output, Y_one_hot = test_model(X_val, Y_val,weights,biases)"
      ],
      "execution_count": 10,
      "outputs": [
        {
          "output_type": "stream",
          "text": [
            "X shape:  (697, 354)\n",
            "Y shape:  (697, 8)\n"
          ],
          "name": "stdout"
        }
      ]
    },
    {
      "cell_type": "markdown",
      "metadata": {
        "id": "h-Fsk4YlVEeR"
      },
      "source": [
        "# Evaluate"
      ]
    },
    {
      "cell_type": "code",
      "metadata": {
        "id": "Tt-mIjzCVGyZ"
      },
      "source": [
        " def evaluate(Y,nn_output,q,totalerr):\r\n",
        "  print('\\nTotal instances with error: ',np.sum(np.sum(np.abs(Y - nn_output))))\r\n",
        "  print('\\nTotal epochs: ',q)\r\n",
        "  print('\\nNetwork Error at termination: ',totalerr[q])\r\n",
        "\r\n",
        "  # Plot network error over epochs\r\n",
        "  plt.plot(totalerr)\r\n",
        "  plt.show()\r\n"
      ],
      "execution_count": 11,
      "outputs": []
    },
    {
      "cell_type": "code",
      "metadata": {
        "colab": {
          "base_uri": "https://localhost:8080/",
          "height": 367
        },
        "id": "ZegytmxWV8ih",
        "outputId": "4f508732-ea23-42c8-bd8d-8487e326510c"
      },
      "source": [
        "evaluate(Y_one_hot,nn_output,q,totalerr)"
      ],
      "execution_count": 12,
      "outputs": [
        {
          "output_type": "stream",
          "text": [
            "\n",
            "Total instances with error:  744.0\n",
            "\n",
            "Total epochs:  99\n",
            "\n",
            "Network Error at termination:  [0.87676787]\n"
          ],
          "name": "stdout"
        },
        {
          "output_type": "display_data",
          "data": {
            "image/png": "[encoded data removed]",
            "text/plain": [
              "<Figure size 432x288 with 1 Axes>"
            ]
          },
          "metadata": {
            "tags": [],
            "needs_background": "light"
          }
        }
      ]
    },
    {
      "cell_type": "markdown",
      "metadata": {
        "id": "W6CvYj0-Q_0y"
      },
      "source": [
        "# Predict unlabeled data"
      ]
    },
    {
      "cell_type": "code",
      "metadata": {
        "id": "PpIZxdNXQ_ZK"
      },
      "source": [
        "def predict(X,weights,biases):\r\n",
        "\tw_h1,w_h2,w_out = weights\r\n",
        "\tb_h1,b_h2,b_out = biases \r\n",
        "\t\r\n",
        "\tN = X.shape[0]\r\n",
        "\tnn_output=np.zeros((X.shape[0],8))\r\n",
        "\tres_output = np.zeros((X.shape[0],1))\r\n",
        "\r\n",
        "\t# Pre-allocate storage and initialize weights + biases\r\n",
        "\tn_in=X.shape[1]\r\n",
        "\r\n",
        "\t# Predict labels for every instance in X\r\n",
        "\tfor n in np.arange(0,N).reshape(-1):\r\n",
        "\t    x_in = X[n,:].T\r\n",
        "\r\n",
        "\t    v_h1 = np.dot(w_h1,x_in) + b_h1\r\n",
        "\t    y_h1 = 1.0 / (1 + np.exp(- v_h1))\r\n",
        "\r\n",
        "\t    v_h2 = np.dot(w_h2,y_h1) + b_h2\r\n",
        "\t    y_h2 = 1.0 / (1 + np.exp(- v_h2))\r\n",
        "\t    v_out = np.dot(w_out,y_h2) + b_out\r\n",
        "\r\n",
        "\t    out = 1.0 / (1 + np.exp(- v_out))\r\n",
        "\t    nn_output[n] = np.equal(out.T,np.max(out)).astype(int)\r\n",
        "\r\n",
        "\t    # Store output from a one-hot encoded format to original label format\r\n",
        "\t    res_output[n] = np.nonzero(nn_output[n])[0] + 1\r\n",
        "\treturn res_output"
      ],
      "execution_count": 13,
      "outputs": []
    },
    {
      "cell_type": "markdown",
      "metadata": {
        "id": "5IJeD2gic6kP"
      },
      "source": [
        "### Load unlabeled data\r\n"
      ]
    },
    {
      "cell_type": "code",
      "metadata": {
        "id": "MGf157lMYhwl"
      },
      "source": [
        "X = np.asmatrix(np.loadtxt(open(filepath + \"/unknown_labels_set.csv\", \"rb\"), delimiter=\",\",dtype = np.float64))"
      ],
      "execution_count": 14,
      "outputs": []
    },
    {
      "cell_type": "markdown",
      "metadata": {
        "id": "dPGcAvQUe1q_"
      },
      "source": [
        "### Predict"
      ]
    },
    {
      "cell_type": "code",
      "metadata": {
        "id": "2FZTzTxXZWQZ"
      },
      "source": [
        "res_output = predict(X,weights,biases)\r\n",
        "res_output"
      ],
      "execution_count": null,
      "outputs": []
    }
  ]
}